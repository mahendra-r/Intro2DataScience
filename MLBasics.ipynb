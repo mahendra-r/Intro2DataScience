{
 "cells": [
  {
   "cell_type": "code",
   "execution_count": 2,
   "metadata": {
    "collapsed": false
   },
   "outputs": [],
   "source": [
    "%matplotlib inline\n",
    "import numpy as np\n",
    "import pandas as pd\n",
    "import matplotlib.pyplot as plt"
   ]
  },
  {
   "cell_type": "markdown",
   "metadata": {},
   "source": [
    "## Data\n",
    "\n",
    "##### * $ n\\ $ data objects $\\times\\  m\\ $ attributes\n",
    "##### * $ n\\ $ instances $\\times\\  m\\ $ features"
   ]
  },
  {
   "cell_type": "markdown",
   "metadata": {},
   "source": [
    "|Attribute Type |Description | Example | Operations  | Tranformations |\n",
    "|:----: |:---- |:----| :----| :----|\n",
    "|**Nominal** <br /> (Catergorical,Quantitative)| These are *names* that  <br /> provide information to <br /> distinguish from others <br /> $=, \\ne$ | zipcode, gender, <br /> Employee ID number, <br />eye color | mode, entropy, <br /> contigency, $\\chi^2$ tests  | Any one-to-one mapping<br /> eg. permutation of values| \n",
    "|**Ordinal** <br /> (Catergorical,Quantitative)| Value of ordinal attribute <br />give enough information <br />to order objects<br /> $<,>$| material hardness, <br /> [good, better, best] <br />grades, St numbers| median, percentile, <br /> rank correlation, <br /> run tests and sign tests| Order preserving change of values <br /> eg. $newvalue = f(oldvalue)$|\n",
    "|**Interval** <br /> (Numeric, Quantitiative)| For interval attribute <br /> the difference between <br /> values are meaningfull<br /> $+,-$| dates, temperature | mean, SD, <br /> Pearson's correlation  | $newvalue = a*oldvalue+b$|\n",
    "|**Interval** <br /> (Numeric, Quantitiative)| Both, the difference and <br /> ratios of the attributes <br />are meaningful, <br /> $*,/$ | temperature, counts, <br /> age, mass, length | geometric mean, <br /> harmonic mean, <br />percent, variation | $newvalue = a* oldvalue$|"
   ]
  },
  {
   "cell_type": "markdown",
   "metadata": {},
   "source": [
    "# Data Types\n",
    "\n",
    "### Numeric data (Quantitative data)\n",
    "  Measurement or count.\n",
    "  \n",
    "   1.**Discrete**  data, whose values are \"Whole numbers\". <br />\n",
    "       \n",
    "       Ex: Number of home runs, Zip code, Name, ID numbers.\n",
    "   <u> Binary attribute </u> are a subset of \"Discrete\" which assumes only two values eg. yes/no, male/female, 0/1.\n",
    "\n",
    "\n",
    "   2.**Continous** data, whose values are \"Real numbers\". <br />\n",
    "       \n",
    "       Ex: Batting average, Temperature, Age\n",
    "\n",
    "### Catergorical data\n",
    " \n",
    " These can take a numerical value, but don't posses a mathematical meaning. i.e., aritmetic operation on them doesn't make sense. (Represent characteristics)\n",
    "        \n",
    "       Ex: position, team, hometown, handedness. \n",
    "     \n",
    "### Ordinal data\n",
    " Ranking \n",
    "       \n",
    "       Ex: Very low to very high, 1star to 5star"
   ]
  },
  {
   "cell_type": "markdown",
   "metadata": {},
   "source": [
    "## Data Quality"
   ]
  },
  {
   "cell_type": "markdown",
   "metadata": {},
   "source": [
    "Depending on Data collection method and Measurement accuracy, errors may be introduced in the *data objects*.  <br /> Accuracy, Precission and Bias"
   ]
  },
  {
   "cell_type": "code",
   "execution_count": 69,
   "metadata": {
    "collapsed": true
   },
   "outputs": [],
   "source": [
    "actual_weight = 1.000 \n",
    "exp_weight = [1.003, 0.998, 1.005, 0.993, 1.010 ]"
   ]
  },
  {
   "cell_type": "code",
   "execution_count": 86,
   "metadata": {
    "collapsed": false
   },
   "outputs": [
    {
     "name": "stdout",
     "output_type": "stream",
     "text": [
      "The precission is : 0.00584\n",
      "The bias is : 0.00180\n"
     ]
    }
   ],
   "source": [
    "precission = np.std(exp_weight); print(\"The precission is : {:.5f}\".format(precission))\n",
    "bias = np.mean(exp_weight) - actual_weight; print(\"The bias is : {:.5f}\".format(bias))"
   ]
  },
  {
   "cell_type": "markdown",
   "metadata": {},
   "source": [
    "Accuracy is a general concept with no specific formula, defined by the closeness of measurement to the true value of quantity."
   ]
  },
  {
   "cell_type": "markdown",
   "metadata": {},
   "source": [
    "## Data Pre-processing"
   ]
  },
  {
   "cell_type": "markdown",
   "metadata": {
    "collapsed": true
   },
   "source": [
    "Standardization = (datapoint-mean)/stdev \n",
    "\n",
    "Example from https://github.com/Prooffreader/intro_machine_learning"
   ]
  },
  {
   "cell_type": "code",
   "execution_count": 5,
   "metadata": {
    "collapsed": false
   },
   "outputs": [
    {
     "data": {
      "text/html": [
       "<div>\n",
       "<table border=\"1\" class=\"dataframe\">\n",
       "  <thead>\n",
       "    <tr style=\"text-align: right;\">\n",
       "      <th></th>\n",
       "      <th>fruit_id</th>\n",
       "      <th>fruit_name</th>\n",
       "      <th>color_id</th>\n",
       "      <th>color_name</th>\n",
       "      <th>elongatedness</th>\n",
       "      <th>weight</th>\n",
       "      <th>sweetness</th>\n",
       "      <th>acidity</th>\n",
       "    </tr>\n",
       "  </thead>\n",
       "  <tbody>\n",
       "    <tr>\n",
       "      <th>169</th>\n",
       "      <td>1</td>\n",
       "      <td>orange</td>\n",
       "      <td>4</td>\n",
       "      <td>orange</td>\n",
       "      <td>0.08</td>\n",
       "      <td>144</td>\n",
       "      <td>3.58</td>\n",
       "      <td>1290</td>\n",
       "    </tr>\n",
       "    <tr>\n",
       "      <th>170</th>\n",
       "      <td>1</td>\n",
       "      <td>orange</td>\n",
       "      <td>5</td>\n",
       "      <td>red</td>\n",
       "      <td>0.11</td>\n",
       "      <td>182</td>\n",
       "      <td>3.58</td>\n",
       "      <td>1295</td>\n",
       "    </tr>\n",
       "    <tr>\n",
       "      <th>171</th>\n",
       "      <td>1</td>\n",
       "      <td>orange</td>\n",
       "      <td>4</td>\n",
       "      <td>orange</td>\n",
       "      <td>0.11</td>\n",
       "      <td>144</td>\n",
       "      <td>3.59</td>\n",
       "      <td>1035</td>\n",
       "    </tr>\n",
       "    <tr>\n",
       "      <th>172</th>\n",
       "      <td>1</td>\n",
       "      <td>orange</td>\n",
       "      <td>4</td>\n",
       "      <td>orange</td>\n",
       "      <td>0.09</td>\n",
       "      <td>143</td>\n",
       "      <td>3.63</td>\n",
       "      <td>1015</td>\n",
       "    </tr>\n",
       "    <tr>\n",
       "      <th>173</th>\n",
       "      <td>2</td>\n",
       "      <td>pear</td>\n",
       "      <td>6</td>\n",
       "      <td>yellow</td>\n",
       "      <td>0.47</td>\n",
       "      <td>123</td>\n",
       "      <td>3.64</td>\n",
       "      <td>380</td>\n",
       "    </tr>\n",
       "    <tr>\n",
       "      <th>174</th>\n",
       "      <td>2</td>\n",
       "      <td>pear</td>\n",
       "      <td>6</td>\n",
       "      <td>yellow</td>\n",
       "      <td>0.56</td>\n",
       "      <td>126</td>\n",
       "      <td>3.69</td>\n",
       "      <td>465</td>\n",
       "    </tr>\n",
       "    <tr>\n",
       "      <th>175</th>\n",
       "      <td>1</td>\n",
       "      <td>orange</td>\n",
       "      <td>5</td>\n",
       "      <td>red</td>\n",
       "      <td>0.11</td>\n",
       "      <td>189</td>\n",
       "      <td>3.71</td>\n",
       "      <td>780</td>\n",
       "    </tr>\n",
       "    <tr>\n",
       "      <th>176</th>\n",
       "      <td>1</td>\n",
       "      <td>orange</td>\n",
       "      <td>4</td>\n",
       "      <td>orange</td>\n",
       "      <td>0.19</td>\n",
       "      <td>144</td>\n",
       "      <td>3.82</td>\n",
       "      <td>845</td>\n",
       "    </tr>\n",
       "    <tr>\n",
       "      <th>177</th>\n",
       "      <td>1</td>\n",
       "      <td>orange</td>\n",
       "      <td>5</td>\n",
       "      <td>red</td>\n",
       "      <td>0.09</td>\n",
       "      <td>191</td>\n",
       "      <td>3.92</td>\n",
       "      <td>1065</td>\n",
       "    </tr>\n",
       "    <tr>\n",
       "      <th>178</th>\n",
       "      <td>1</td>\n",
       "      <td>orange</td>\n",
       "      <td>2</td>\n",
       "      <td>brown</td>\n",
       "      <td>0.15</td>\n",
       "      <td>152</td>\n",
       "      <td>4.00</td>\n",
       "      <td>1035</td>\n",
       "    </tr>\n",
       "  </tbody>\n",
       "</table>\n",
       "</div>"
      ],
      "text/plain": [
       "     fruit_id fruit_name  color_id color_name  elongatedness  weight  \\\n",
       "169         1     orange         4     orange           0.08     144   \n",
       "170         1     orange         5        red           0.11     182   \n",
       "171         1     orange         4     orange           0.11     144   \n",
       "172         1     orange         4     orange           0.09     143   \n",
       "173         2       pear         6     yellow           0.47     123   \n",
       "174         2       pear         6     yellow           0.56     126   \n",
       "175         1     orange         5        red           0.11     189   \n",
       "176         1     orange         4     orange           0.19     144   \n",
       "177         1     orange         5        red           0.09     191   \n",
       "178         1     orange         2      brown           0.15     152   \n",
       "\n",
       "     sweetness  acidity  \n",
       "169       3.58     1290  \n",
       "170       3.58     1295  \n",
       "171       3.59     1035  \n",
       "172       3.63     1015  \n",
       "173       3.64      380  \n",
       "174       3.69      465  \n",
       "175       3.71      780  \n",
       "176       3.82      845  \n",
       "177       3.92     1065  \n",
       "178       4.00     1035  "
      ]
     },
     "execution_count": 5,
     "metadata": {},
     "output_type": "execute_result"
    }
   ],
   "source": [
    "df = pd.read_csv('fruit.csv')\n",
    "\n",
    "fruitnames = {1: 'Orange', 2: 'Pear', 3: 'Apple'}\n",
    "colors = {1: '#e09028', 2: '#55aa33', 3: '#cc3333'}\n",
    "fruitlist = ['Orange', 'Pear', 'Apple']\n",
    "# It's a trifle inelegant to use both a list and a dict,\n",
    "# but fruitlist is zero-indexed and fruitnames is one-indexed.\n",
    "\n",
    "df.sort(['sweetness', 'acidity', 'weight', 'elongatedness'], inplace=True)\n",
    "df.reset_index(drop=True, inplace=True)\n",
    "df.tail(10)"
   ]
  },
  {
   "cell_type": "code",
   "execution_count": 6,
   "metadata": {
    "collapsed": false
   },
   "outputs": [
    {
     "data": {
      "text/plain": [
       "<matplotlib.axes._subplots.AxesSubplot at 0x111035ba8>"
      ]
     },
     "execution_count": 6,
     "metadata": {},
     "output_type": "execute_result"
    },
    {
     "data": {
      "image/png": "[encoded data removed]",
      "text/plain": [
       "<matplotlib.figure.Figure at 0x1110354e0>"
      ]
     },
     "metadata": {},
     "output_type": "display_data"
    }
   ],
   "source": [
    "df.plot(kind='scatter', x='sweetness', y='acidity', color='#228888', s=92, alpha=0.3)"
   ]
  },
  {
   "cell_type": "code",
   "execution_count": 10,
   "metadata": {
    "collapsed": false
   },
   "outputs": [
    {
     "data": {
      "text/plain": [
       "<matplotlib.collections.PathCollection at 0x11321a3c8>"
      ]
     },
     "execution_count": 10,
     "metadata": {},
     "output_type": "execute_result"
    },
    {
     "data": {
      "image/png": "[encoded data removed]",
      "text/plain": [
       "<matplotlib.figure.Figure at 0x110dc9c88>"
      ]
     },
     "metadata": {},
     "output_type": "display_data"
    }
   ],
   "source": [
    "standardized_sweetness = ((df['sweetness']-np.mean(df['sweetness']))/np.std(df['sweetness']))\n",
    "standardized_acidity = ((df['acidity']-np.mean(df['acidity']))/np.std(df['acidity']))\n",
    "plt.scatter(standardized_sweetness,standardized_acidity)"
   ]
  }
 ],
 "metadata": {
  "kernelspec": {
   "display_name": "Python 3",
   "language": "python",
   "name": "python3"
  },
  "language_info": {
   "codemirror_mode": {
    "name": "ipython",
    "version": 3
   },
   "file_extension": ".py",
   "mimetype": "text/x-python",
   "name": "python",
   "nbconvert_exporter": "python",
   "pygments_lexer": "ipython3",
   "version": "3.4.3"
  }
 },
 "nbformat": 4,
 "nbformat_minor": 0
}
