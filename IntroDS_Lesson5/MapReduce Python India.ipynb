{
 "cells": [
  {
   "cell_type": "code",
   "execution_count": null,
   "metadata": {
    "collapsed": true
   },
   "outputs": [],
   "source": [
    "def wordfreq(words):\n",
    "    freq = {}\n",
    "    for w in words:\n",
    "        freq[w] = freq.get(w, 0)+1\n",
    "    return freq\n",
    "\n",
    "def main(filename):\n",
    "    file = open(filename).read().split()\n",
    "    freq = wordfreq(file)\n",
    "    for w, count in freq.items():\n",
    "        print(count, w)\n",
    "\n",
    "main(\"wordcount.txt\")"
   ]
  },
  {
   "cell_type": "markdown",
   "metadata": {},
   "source": [
    "Programmer to think about:\n",
    "    * How to split the data for anlaysis (map)\n",
    "    * How to combine the analysed results (reduce)"
   ]
  },
  {
   "cell_type": "code",
   "execution_count": null,
   "metadata": {
    "collapsed": true
   },
   "outputs": [],
   "source": []
  }
 ],
 "metadata": {
  "kernelspec": {
   "display_name": "Python 3",
   "language": "python",
   "name": "python3"
  },
  "language_info": {
   "codemirror_mode": {
    "name": "ipython",
    "version": 3
   },
   "file_extension": ".py",
   "mimetype": "text/x-python",
   "name": "python",
   "nbconvert_exporter": "python",
   "pygments_lexer": "ipython3",
   "version": "3.4.3"
  }
 },
 "nbformat": 4,
 "nbformat_minor": 0
}
