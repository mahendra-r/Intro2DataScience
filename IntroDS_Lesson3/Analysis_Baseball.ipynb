{
 "cells": [
  {
   "cell_type": "code",
   "execution_count": 1,
   "metadata": {
    "collapsed": false
   },
   "outputs": [],
   "source": [
    "%matplotlib inline\n",
    "import numpy as np\n",
    "import scipy as sp\n",
    "import pandas as pd\n",
    "import matplotlib.pyplot as plt\n",
    "\n",
    "import csv\n",
    "from numpy.linalg import inv, pinv\n"
   ]
  },
  {
   "cell_type": "code",
   "execution_count": 84,
   "metadata": {
    "collapsed": false
   },
   "outputs": [
    {
     "data": {
      "text/html": [
       "<div style=\"max-height:1000px;max-width:1500px;overflow:auto;\">\n",
       "<table border=\"1\" class=\"dataframe\">\n",
       "  <thead>\n",
       "    <tr style=\"text-align: right;\">\n",
       "      <th></th>\n",
       "      <th>name</th>\n",
       "      <th>handedness</th>\n",
       "      <th>height</th>\n",
       "      <th>weight</th>\n",
       "      <th>avg</th>\n",
       "      <th>HR</th>\n",
       "    </tr>\n",
       "  </thead>\n",
       "  <tbody>\n",
       "    <tr>\n",
       "      <th>0</th>\n",
       "      <td> Brandon Hyde</td>\n",
       "      <td> R</td>\n",
       "      <td> 75</td>\n",
       "      <td> 210</td>\n",
       "      <td> 0.000</td>\n",
       "      <td>   0</td>\n",
       "    </tr>\n",
       "    <tr>\n",
       "      <th>1</th>\n",
       "      <td>  Carey Selph</td>\n",
       "      <td> R</td>\n",
       "      <td> 69</td>\n",
       "      <td> 175</td>\n",
       "      <td> 0.277</td>\n",
       "      <td>   0</td>\n",
       "    </tr>\n",
       "    <tr>\n",
       "      <th>2</th>\n",
       "      <td> Philip Nastu</td>\n",
       "      <td> L</td>\n",
       "      <td> 74</td>\n",
       "      <td> 180</td>\n",
       "      <td> 0.040</td>\n",
       "      <td>   0</td>\n",
       "    </tr>\n",
       "    <tr>\n",
       "      <th>3</th>\n",
       "      <td>   Kent Hrbek</td>\n",
       "      <td> L</td>\n",
       "      <td> 76</td>\n",
       "      <td> 200</td>\n",
       "      <td> 0.282</td>\n",
       "      <td> 293</td>\n",
       "    </tr>\n",
       "    <tr>\n",
       "      <th>4</th>\n",
       "      <td>  Bill Risley</td>\n",
       "      <td> R</td>\n",
       "      <td> 74</td>\n",
       "      <td> 215</td>\n",
       "      <td> 0.000</td>\n",
       "      <td>   0</td>\n",
       "    </tr>\n",
       "  </tbody>\n",
       "</table>\n",
       "</div>"
      ],
      "text/plain": [
       "           name handedness height weight    avg   HR\n",
       "0  Brandon Hyde          R     75    210  0.000    0\n",
       "1   Carey Selph          R     69    175  0.277    0\n",
       "2  Philip Nastu          L     74    180  0.040    0\n",
       "3    Kent Hrbek          L     76    200  0.282  293\n",
       "4   Bill Risley          R     74    215  0.000    0"
      ]
     },
     "execution_count": 84,
     "metadata": {},
     "output_type": "execute_result"
    }
   ],
   "source": [
    "'''idea is to READ the csv as DICT\n",
    "    DICT to pd.DF\n",
    "    change the DF index as X_{ij}\n",
    "'''\n",
    "\n",
    "with open('baseball_stats.csv', 'r') as file_reader:\n",
    "    csv_reader = csv.reader(file_reader)\n",
    "    next(csv_reader)\n",
    "    dict_conv = dict(enumerate(csv_reader))\n",
    "    \n",
    "file_reader.close()\n",
    "\n",
    "df = pd.read_csv('baseball_stats.csv',)\n"
   ]
  },
  {
   "cell_type": "code",
   "execution_count": null,
   "metadata": {
    "collapsed": true
   },
   "outputs": [],
   "source": []
  }
 ],
 "metadata": {
  "kernelspec": {
   "display_name": "Python 3",
   "language": "python",
   "name": "python3"
  },
  "language_info": {
   "codemirror_mode": {
    "name": "ipython",
    "version": 3
   },
   "file_extension": ".py",
   "mimetype": "text/x-python",
   "name": "python",
   "nbconvert_exporter": "python",
   "pygments_lexer": "ipython3",
   "version": "3.4.3"
  }
 },
 "nbformat": 4,
 "nbformat_minor": 0
}
