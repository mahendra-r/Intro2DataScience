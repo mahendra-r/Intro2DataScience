{
 "cells": [
  {
   "cell_type": "markdown",
   "metadata": {},
   "source": [
    "##(Batch) Gradient descent\n",
    "\n",
    "Gradient descent is an optimization algorithm that works by efficiently searching the parameter space, intercept($\\theta_0$) and slope($\\theta_1$) for linear regression, according to the following rule:\n",
    "\n",
    "\\begin{aligned} \\theta := \\theta -\\alpha \\frac{\\delta}{\\delta \\theta}J(\\theta). \\end{aligned} \n",
    "Note that we used '$:=$' to denote an assign or an update.\n",
    "\n",
    "The \\(J(\\theta)\\) is known as the cost function and \\(\\alpha\\) is the learning rate, a free parameter. In this tutorial, we're going to use a least squares cost function defined as following:\n",
    "\n",
    "\\begin{aligned} J(\\theta) = \\frac{1}{2m}\\sum_{i=1}^m (h_\\theta(x^{(i)})-y^{(i)})^2, \\end{aligned}\n",
    "where \\(m\\) is the total number of training examples and $h_\\theta(x^{(i)})$ is the hypothesis function defined like this:\n",
    "\n",
    "\\begin{aligned} h_\\theta(x^{(i)}) = \\theta_0 + \\theta_1 x^{(i)} \\end{aligned}\n",
    "where the super script $(i)$ is used to denote the $i^{th}$ sample (we'll save subscripts for the index to a feature when we deal with multi-features).\n",
    "\n",
    "We need derivatives for both $\\theta_0$ and $\\theta_1$:\n",
    "\n",
    "\\begin{aligned} \\frac{\\partial}{\\partial \\theta_0}J(\\theta_0, \\theta_1) = \\frac{1}{m} \\sum_{i=1}^m (h_\\theta(x^{(i)})-y^{(i)}) \\end{aligned}\n",
    "\n",
    "\\begin{aligned} = \\frac{1}{m} \\sum_{i=1}^m (\\theta_0 + \\theta_1 x^{(i)}-y^{(i)}) \\end{aligned} \n",
    "\n",
    "\\begin{aligned} \\frac{\\partial}{\\partial \\theta_1}J(\\theta_0, \\theta_1) = \\frac{1}{m} \\sum_{i=1}^m (h_\\theta(x^{(i)})-y^{(i)})x^{(i)} \\end{aligned} \n",
    "\n",
    "\\begin{aligned} = \\frac{1}{m} \\sum_{i=1}^m (\\theta_0 + \\theta_1 x^{(i)}-y^{(i)})x^{(i)} \\end{aligned} "
   ]
  },
  {
   "cell_type": "markdown",
   "metadata": {},
   "source": [
    "From: <a href = \"http://www.bogotobogo.com/python/python_numpy_batch_gradient_descent_algorithm.php\"> Source </a>"
   ]
  },
  {
   "cell_type": "code",
   "execution_count": 4,
   "metadata": {
    "collapsed": true
   },
   "outputs": [],
   "source": [
    "%matplotlib inline\n",
    "import numpy as np\n",
    "import matplotlib.pyplot as plt\n",
    "import random\n",
    "import sklearn\n",
    "from sklearn.datasets.samples_generator import make_regression \n",
    "import scipy.stats as stats"
   ]
  },
  {
   "cell_type": "markdown",
   "metadata": {},
   "source": [
    "## Implementation 1:\n",
    "\n",
    "Pure python"
   ]
  },
  {
   "cell_type": "code",
   "execution_count": 5,
   "metadata": {
    "collapsed": false
   },
   "outputs": [
    {
     "name": "stdout",
     "output_type": "stream",
     "text": [
      "x.shape = %s y.shape = %s (100, 1) (100,)\n",
      "Converged, iterations:  642 !!!\n",
      "theta0 = %s theta1 = %s [-2.81878447] [ 43.13907321]\n",
      "intercept = %s slope = %s -2.84963639461 43.2042438802\n"
     ]
    },
    {
     "data": {
      "image/png": "[encoded data removed]",
      "text/plain": [
       "<matplotlib.figure.Figure at 0x7f75955c9080>"
      ]
     },
     "metadata": {},
     "output_type": "display_data"
    },
    {
     "name": "stdout",
     "output_type": "stream",
     "text": [
      "Done!\n"
     ]
    }
   ],
   "source": [
    "def gradient_descent(alpha, x, y, ep=0.0001, max_iter=10000):\n",
    "    converged = False\n",
    "    iter = 0\n",
    "    m = x.shape[0] # number of samples\n",
    "\n",
    "    # initial theta\n",
    "    t0 = np.random.random(x.shape[1])\n",
    "    t1 = np.random.random(x.shape[1])\n",
    "\n",
    "    # total error, J(theta)\n",
    "    J = sum([(t0 + t1*x[i] - y[i])**2 for i in range(m)])\n",
    "\n",
    "    # Iterate Loop\n",
    "    while not converged:\n",
    "        # for each training sample, compute the gradient (d/d_theta j(theta))\n",
    "        grad0 = 1.0/m * sum([(t0 + t1*x[i] - y[i]) for i in range(m)]) \n",
    "        grad1 = 1.0/m * sum([(t0 + t1*x[i] - y[i])*x[i] for i in range(m)])\n",
    "\n",
    "        # update the theta_temp\n",
    "        temp0 = t0 - alpha * grad0\n",
    "        temp1 = t1 - alpha * grad1\n",
    "    \n",
    "        # update theta\n",
    "        t0 = temp0\n",
    "        t1 = temp1\n",
    "\n",
    "        # mean squared error\n",
    "        e = sum( [ (t0 + t1*x[i] - y[i])**2 for i in range(m)] ) \n",
    "\n",
    "        if abs(J-e) <= ep:\n",
    "            print('Converged, iterations: ', iter, '!!!')\n",
    "            converged = True\n",
    "    \n",
    "        J = e   # update error \n",
    "        iter += 1  # update iter\n",
    "    \n",
    "        if iter == max_iter:\n",
    "            print('Max interactions exceeded!')\n",
    "            converged = True\n",
    "\n",
    "    return t0,t1\n",
    "\n",
    "if __name__ == '__main__':\n",
    "\n",
    "    x, y = make_regression(n_samples=100, n_features=1, n_informative=1, \n",
    "                        random_state=0, noise=35) \n",
    "    print('x.shape = %s y.shape = %s', x.shape, y.shape)\n",
    " \n",
    "    alpha = 0.01 # learning rate\n",
    "    ep = 0.01 # convergence criteria\n",
    "\n",
    "    # call gredient decent, and get intercept(=theta0) and slope(=theta1)\n",
    "    theta0, theta1 = gradient_descent(alpha, x, y, ep, max_iter=1000)\n",
    "    print('theta0 = %s theta1 = %s', theta0, theta1) \n",
    "\n",
    "    # check with scipy linear regression \n",
    "    slope, intercept, r_value, p_value, slope_std_error = stats.linregress(x[:,0], y)\n",
    "    print('intercept = %s slope = %s', intercept, slope)\n",
    "\n",
    "    # plot\n",
    "    for i in range(x.shape[0]):\n",
    "          y_predict = theta0 + theta1*x \n",
    "\n",
    "    plt.plot(x,y,'o')\n",
    "    plt.plot(x,y_predict,'k-')\n",
    "    plt.show()\n",
    "    print(\"Done!\")"
   ]
  },
  {
   "cell_type": "markdown",
   "metadata": {},
   "source": [
    "## Implementation 2\n",
    "\n",
    "Numpy"
   ]
  },
  {
   "cell_type": "markdown",
   "metadata": {},
   "source": [
    "The regression line in the picture above confirms we got the right result from our Gradient Descent algorithm. Also, the sciPy's stats.linregress reassures (intercept and slope values) the correctness of our outcome (theta0 and theta1).\n",
    "\n",
    "The the code, we need a little bit careful when we updates $\\theta_0$ and $\\theta_0$. First, we calculate the temporary $\\theta_0$ and $\\theta_1$ with old $\\theta_0$ and $\\theta_1$, and then we get new $\\theta_0$ and $\\theta_1$ from temp0 and temp1:\n",
    "\n",
    "\\begin{aligned} temp0 := \\theta_0 -\\alpha \\frac{\\partial}{\\partial \\theta_0}J(\\theta_0, \\theta_1) \\end{aligned}\n",
    "\\begin{aligned} temp1 := \\theta_1 -\\alpha \\frac{\\partial}{\\partial \\theta_1}J(\\theta_0, \\theta_1) \\end{aligned}\n",
    "\\begin{aligned} \\theta_0 := temp0 \\end{aligned}\n",
    "\\begin{aligned} \\theta_1 := temp1. \\end{aligned}\n"
   ]
  },
  {
   "cell_type": "code",
   "execution_count": 6,
   "metadata": {
    "collapsed": false
   },
   "outputs": [
    {
     "data": {
      "image/png": "[encoded data removed]",
      "text/plain": [
       "<matplotlib.figure.Figure at 0x7f75bc0a8fd0>"
      ]
     },
     "metadata": {},
     "output_type": "display_data"
    },
    {
     "name": "stdout",
     "output_type": "stream",
     "text": [
      "Done!\n"
     ]
    }
   ],
   "source": [
    "def gradient_descent_2(alpha, x, y, numIterations):\n",
    "    m = x.shape[0] # number of samples\n",
    "    theta = np.ones(2)\n",
    "    x_transpose = x.transpose()\n",
    "    for iter in range(0, numIterations):\n",
    "        hypothesis = np.dot(x, theta)\n",
    "        loss = hypothesis - y\n",
    "        J = np.sum(loss ** 2) / (2 * m)  # cost\n",
    "        #print(\"iter %s | J: %.3f\", iter, J)\n",
    "        gradient = np.dot(x_transpose, loss) / m         \n",
    "        theta = theta - alpha * gradient  # update\n",
    "    return theta\n",
    "\n",
    "if __name__ == '__main__':\n",
    "\n",
    "    x, y = make_regression(n_samples=100, n_features=1, n_informative=1, \n",
    "                        random_state=0, noise=35) \n",
    "    m, n = np.shape(x)\n",
    "    x = np.c_[ np.ones(m), x] # insert column\n",
    "    alpha = 0.01 # learning rate\n",
    "    theta = gradient_descent_2(alpha, x, y, 1000)\n",
    "\n",
    "    # plot\n",
    "    for i in range(x.shape[1]):\n",
    "        y_predict = theta[0] + theta[1]*x \n",
    "    plt.plot(x[:,1],y,'o')\n",
    "    plt.plot(x,y_predict,'k-')\n",
    "    plt.show()\n",
    "    print(\"Done!\")"
   ]
  },
  {
   "cell_type": "markdown",
   "metadata": {},
   "source": []
  }
 ],
 "metadata": {
  "kernelspec": {
   "display_name": "Python 3",
   "language": "python",
   "name": "python3"
  },
  "language_info": {
   "codemirror_mode": {
    "name": "ipython",
    "version": 3
   },
   "file_extension": ".py",
   "mimetype": "text/x-python",
   "name": "python",
   "nbconvert_exporter": "python",
   "pygments_lexer": "ipython3",
   "version": "3.4.3"
  }
 },
 "nbformat": 4,
 "nbformat_minor": 0
}
